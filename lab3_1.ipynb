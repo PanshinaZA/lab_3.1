{
  "nbformat": 4,
  "nbformat_minor": 0,
  "metadata": {
    "colab": {
      "provenance": [],
      "authorship_tag": "ABX9TyPjbI6+BDt6/7tKElMxSzOd",
      "include_colab_link": true
    },
    "kernelspec": {
      "name": "python3",
      "display_name": "Python 3"
    },
    "language_info": {
      "name": "python"
    }
  },
  "cells": [
    {
      "cell_type": "markdown",
      "metadata": {
        "id": "view-in-github",
        "colab_type": "text"
      },
      "source": [
        "<a href=\"https://colab.research.google.com/github/PanshinaZA/lab_3.1/blob/main/lab3_1.ipynb\" target=\"_parent\"><img src=\"https://colab.research.google.com/assets/colab-badge.svg\" alt=\"Open In Colab\"/></a>"
      ]
    },
    {
      "cell_type": "markdown",
      "source": [
        "1. Напишите функцию, которая принимает строку и возвращает её в перевернутом виде, не используя циклы."
      ],
      "metadata": {
        "id": "xHZR0O_JoLkz"
      }
    },
    {
      "cell_type": "code",
      "execution_count": 1,
      "metadata": {
        "colab": {
          "base_uri": "https://localhost:8080/"
        },
        "id": "j3P1uQE2oIRv",
        "outputId": "1dc409c4-52ec-4fb4-d85f-ce9ba3125359"
      },
      "outputs": [
        {
          "output_type": "stream",
          "name": "stdout",
          "text": [
            "акитамрофни-сензиб\n"
          ]
        }
      ],
      "source": [
        "# Выполнила: Паньшина З.А.\n",
        "# Группа: АБП-231\n",
        "\n",
        "def reverse_string(s):\n",
        "    \"\"\"Вернуть перевернутую строку 's'.\n",
        "\n",
        "    Параметры:\n",
        "        - s (str): исходная строка.\n",
        "\n",
        "    Результат:\n",
        "        - str: перевернутая строка.\"\"\"\n",
        "    res = s[::-1]\n",
        "    return res\n",
        "\n",
        "print(reverse_string(\"бизнес-информатика\"))"
      ]
    },
    {
      "cell_type": "markdown",
      "source": [
        "2. Напишите функцию, которая извлекает доменное имя из адреса электронной почты."
      ],
      "metadata": {
        "id": "Pl1bMsBPown3"
      }
    },
    {
      "cell_type": "code",
      "source": [
        "# Выполнила: Паньшина З.А.\n",
        "# Группа: АБП-231\n",
        "\n",
        "def email(a):\n",
        "  i = a.find('@')\n",
        "  return a[i:]\n",
        "\n",
        "a = str(input())\n",
        "print(email(a))\n"
      ],
      "metadata": {
        "colab": {
          "base_uri": "https://localhost:8080/"
        },
        "id": "xeNcz-_Sowy5",
        "outputId": "f16cccb7-4dad-4c56-f21c-4da6f12c493d"
      },
      "execution_count": 2,
      "outputs": [
        {
          "output_type": "stream",
          "name": "stdout",
          "text": [
            "ugug@mail.ru\n",
            "@mail.ru\n"
          ]
        }
      ]
    },
    {
      "cell_type": "markdown",
      "source": [
        "3. Напишите функцию для подсчета количества слов в предложении. Cлова разделены одним или несколькими пробелами. Знаки препинания не учитывать."
      ],
      "metadata": {
        "id": "A6OZU4Zvo2LW"
      }
    },
    {
      "cell_type": "code",
      "source": [
        "# Выполнила: Паньшина З.А.\n",
        "# Группа: АБП-231\n",
        "\n",
        "def count_words(sentence):\n",
        "    \"\"\"Подсчитать количество слов в предложении 'sentence'.\n",
        "\n",
        "    Параметры:\n",
        "        - sentence (str): предложение.\n",
        "\n",
        "    Результат:\n",
        "        - int: количество слов.\"\"\"\n",
        "    res = len(sentence.split())\n",
        "    return res\n",
        "\n",
        "text = \"  Это пример   предложения для подсчета слов!  \"\n",
        "print(count_words(text))"
      ],
      "metadata": {
        "id": "SLjN_tySo2To",
        "colab": {
          "base_uri": "https://localhost:8080/"
        },
        "outputId": "8a482632-6b77-41a8-822e-ce7da41e9b14"
      },
      "execution_count": 3,
      "outputs": [
        {
          "output_type": "stream",
          "name": "stdout",
          "text": [
            "6\n"
          ]
        }
      ]
    },
    {
      "cell_type": "markdown",
      "source": [
        "4. Напишите функцию, которая принимает список и возвращает новый список, содержащий только уникальные элементы из исходного."
      ],
      "metadata": {
        "id": "mIRKTO3Eo4-C"
      }
    },
    {
      "cell_type": "code",
      "source": [
        "# Выполнила: Паньшина З.А.\n",
        "# Группа: АБП-231\n",
        "\n",
        "def get_unique_elements(input_list):\n",
        "    \"\"\"Вернуть список с уникальными элементами из 'input_list'.\n",
        "\n",
        "    Параметры:\n",
        "        - input_list (list): исходный список.\n",
        "\n",
        "    Результат:\n",
        "        - list: список с уникальными элементами.\"\"\"\n",
        "    res = list(set(input_list))\n",
        "    return res\n",
        "\n",
        "my_list = [1, 2, 3, 2, 4, 3, 5, 1]\n",
        "print(get_unique_elements(my_list))"
      ],
      "metadata": {
        "id": "TAaTdGtBo5Gh",
        "colab": {
          "base_uri": "https://localhost:8080/"
        },
        "outputId": "1fb17d6c-f161-4aa8-ef1c-586313b38bea"
      },
      "execution_count": 4,
      "outputs": [
        {
          "output_type": "stream",
          "name": "stdout",
          "text": [
            "[1, 2, 3, 4, 5]\n"
          ]
        }
      ]
    },
    {
      "cell_type": "markdown",
      "source": [
        "5. Напишите функцию, которая проверяет, является ли строка палиндромом (читается одинаково в обоих направлениях), игнорируя регистр и пробелы."
      ],
      "metadata": {
        "id": "iq-ZBWtVo9on"
      }
    },
    {
      "cell_type": "code",
      "source": [
        "# Выполнила: Паньшина З.А.\n",
        "# Группа: АБП-231\n",
        "\n",
        "def is_palindrome(s):\n",
        "    \"\"\"Проверить, является ли строка 's' палиндромом.\n",
        "\n",
        "    Параметры:\n",
        "        - s (str): строка для проверки.\n",
        "\n",
        "    Результат:\n",
        "        - bool: True, если палиндром, иначе False.\"\"\"\n",
        "    k = s.lower()\n",
        "    r = k.replace(\" \",\"\")\n",
        "    if r == r[::-1]:\n",
        "      return True\n",
        "    else:\n",
        "      return False\n",
        "\n",
        "print(is_palindrome(\"А роза упала на лапу Азора\"))\n",
        "print(is_palindrome(\"Привет мир\"))\n"
      ],
      "metadata": {
        "id": "i0vlBUf0o9x4",
        "colab": {
          "base_uri": "https://localhost:8080/"
        },
        "outputId": "01f262c8-81af-4ccb-fc9a-9b22a06f703c"
      },
      "execution_count": 5,
      "outputs": [
        {
          "output_type": "stream",
          "name": "stdout",
          "text": [
            "True\n",
            "False\n"
          ]
        }
      ]
    },
    {
      "cell_type": "markdown",
      "source": [
        "6. В компании принят формат кода товара: три буквы, дефис, три цифры, дефис, две буквы (например, XYZ-123-AB). Напишите функцию, которая форматирует строку вида xyz123ab в нужный формат"
      ],
      "metadata": {
        "id": "A3dlz8Vwo95M"
      }
    },
    {
      "cell_type": "code",
      "source": [
        "# Выполнила: Паньшина З.А.\n",
        "# Группа: АБП-231\n",
        "\n",
        "def format_product_code(code):\n",
        "    \"\"\"Отформатировать код товара 'code'.\n",
        "\n",
        "    Параметры:\n",
        "        - code (str): исходный код в виде сплошной строки.\n",
        "\n",
        "    Результат:\n",
        "        - str: отформатированный код.\"\"\"\n",
        "    code = code.upper()\n",
        "\n",
        "    part1 = code[:3]\n",
        "    part2 = code[3:6]\n",
        "    part3 = code[6:8]\n",
        "    format_code = f\"{part1}-{part2}-{part3}\"\n",
        "    return format_code\n",
        "\n",
        "print(format_product_code(\"xyz123ab\"))"
      ],
      "metadata": {
        "id": "GJ-DW4zIo-Dq",
        "colab": {
          "base_uri": "https://localhost:8080/"
        },
        "outputId": "fedb183f-8a64-417d-fa77-e4223979c906"
      },
      "execution_count": 8,
      "outputs": [
        {
          "output_type": "stream",
          "name": "stdout",
          "text": [
            "XYZ-123-AB\n"
          ]
        }
      ]
    },
    {
      "cell_type": "markdown",
      "source": [
        "7. Напишите функцию, которая принимает список чисел и возвращает их среднее арифметическое"
      ],
      "metadata": {
        "id": "47q9u-xBo-La"
      }
    },
    {
      "cell_type": "code",
      "source": [
        "# Выполнила: Паньшина З.А.\n",
        "# Группа: АБП-231\n",
        "\n",
        "def calculate_average(numbers):\n",
        "    \"\"\"Вычислить среднее арифметическое для списка 'numbers'.\n",
        "\n",
        "    Параметры:\n",
        "        - numbers (list): список чисел.\n",
        "\n",
        "    Результат:\n",
        "        - float: среднее арифметическое.\"\"\"\n",
        "    res = sum(numbers)/len(numbers)\n",
        "    return res\n",
        "\n",
        "my_numbers = [10, 20, 30, 40, 50]\n",
        "print(f\"{calculate_average(my_numbers):.2f}\")"
      ],
      "metadata": {
        "id": "hDGgUlVOo-Rp",
        "colab": {
          "base_uri": "https://localhost:8080/"
        },
        "outputId": "d8be53cf-b613-4172-be26-b5dd7b61e7b6"
      },
      "execution_count": 9,
      "outputs": [
        {
          "output_type": "stream",
          "name": "stdout",
          "text": [
            "30.00\n"
          ]
        }
      ]
    },
    {
      "cell_type": "markdown",
      "source": [
        "8. Напишите функцию, которая принимает текст и список \"стоп-слов\". Функция должна заменять все стоп-слова в тексте на символ"
      ],
      "metadata": {
        "id": "mnxEVUHyo-YD"
      }
    },
    {
      "cell_type": "code",
      "source": [
        "# Выполнила: Паньшина З.А.\n",
        "# Группа: АБП-231\n",
        "\n",
        "def censor_text(text, stop_words):\n",
        "    \"\"\"Заменить стоп-слова в тексте 'text' на '*'.\n",
        "\n",
        "    Параметры:\n",
        "        - text (str): исходный текст.\n",
        "        - stop_words (list): список стоп-слов.\n",
        "\n",
        "    Результат:\n",
        "        - str: обработанный текст.\"\"\"\n",
        "    res = text\n",
        "    for i in stop_words:\n",
        "      res = res.replace(i,\"*\")\n",
        "    return res\n",
        "\n",
        "text = \"Этот плохой пример содержит плохие слова.\"\n",
        "stop_list = [\"плохой\", \"плохие\"]\n",
        "print(censor_text(text, stop_list))"
      ],
      "metadata": {
        "id": "L7ABk0l3o-do",
        "colab": {
          "base_uri": "https://localhost:8080/"
        },
        "outputId": "6e00325c-3187-4d36-c89a-e8c7fa497963"
      },
      "execution_count": 10,
      "outputs": [
        {
          "output_type": "stream",
          "name": "stdout",
          "text": [
            "Этот * пример содержит * слова.\n"
          ]
        }
      ]
    },
    {
      "cell_type": "markdown",
      "source": [
        "9. Напишите функцию для генерации корпоративного email-адреса. Она должна принимать имя и фамилию, преобразовывать их в формат i.ivanov@company.com."
      ],
      "metadata": {
        "id": "z0H__FPJo-jy"
      }
    },
    {
      "cell_type": "code",
      "source": [
        "# Выполнила: Паньшина З.А.\n",
        "# Группа: АБП-231\n",
        "\n",
        "def generate_corporate_email(first_name, last_name):\n",
        "    \"\"\"Сгенерировать email из имени 'first_name' и фамилии 'last_name'.\n",
        "\n",
        "    Параметры:\n",
        "        - first_name (str): имя пользователя.\n",
        "        - last_name (str): фамилия пользователя.\n",
        "\n",
        "    Результат:\n",
        "        - str: корпоративный email.\"\"\"\n",
        "    translit_dict = {\n",
        "        'а': 'a', 'б': 'b', 'в': 'v', 'г': 'g', 'д': 'd',\n",
        "        'е': 'e', 'ё': 'e', 'ж': 'zh', 'з': 'z', 'и': 'i',\n",
        "        'й': 'y', 'к': 'k', 'л': 'l', 'м': 'm', 'н': 'n',\n",
        "        'о': 'o', 'п': 'p', 'р': 'r', 'с': 's', 'т': 't',\n",
        "        'у': 'u', 'ф': 'f', 'х': 'kh', 'ц': 'ts', 'ч': 'ch',\n",
        "        'ш': 'sh', 'щ': 'shch', 'ы': 'y', 'э': 'e', 'ю': 'yu',\n",
        "        'я': 'ya'}\n",
        "    first_name = first_name.lower()\n",
        "    last_name = last_name.lower()\n",
        "    res = []\n",
        "    for i in translit_dict.keys():\n",
        "      if first_name[0] == i:\n",
        "        res.append(translit_dict[i])\n",
        "    for i in last_name:\n",
        "      for j in translit_dict.keys():\n",
        "        if i == j:\n",
        "          res.append(translit_dict[j])\n",
        "    g = f\"{res[0]}.{''.join(res[1:])}@company.com\"\n",
        "    return g\n",
        "\n",
        "print(generate_corporate_email(\"Иван\", \"Петров\"))"
      ],
      "metadata": {
        "id": "pvgP1-bto-qD",
        "colab": {
          "base_uri": "https://localhost:8080/"
        },
        "outputId": "e318d991-1e90-470b-ddd4-05e6effbd707"
      },
      "execution_count": 12,
      "outputs": [
        {
          "output_type": "stream",
          "name": "stdout",
          "text": [
            "i.petrov@company.com\n"
          ]
        }
      ]
    },
    {
      "cell_type": "markdown",
      "source": [
        "10. Напишите функцию, которая принимает список строк и возвращает новый список, содержащий только те строки, длина которых больше 5 символов."
      ],
      "metadata": {
        "id": "Ly586_7yo-vf"
      }
    },
    {
      "cell_type": "code",
      "source": [
        "# Выполнила: Паньшина З.А.\n",
        "# Группа: АБП-231\n",
        "\n",
        "def filter_long_strings(strings):\n",
        "    \"\"\"Отфильтровать строки из списка 'strings' по длине (> 5).\n",
        "\n",
        "    Параметры:\n",
        "        - strings (list): список строк.\n",
        "\n",
        "    Результат:\n",
        "        - list: отфильтрованный список.\"\"\"\n",
        "    res = []\n",
        "    for i in strings:\n",
        "      if len(i) > 5:\n",
        "        res.append(i)\n",
        "    return res\n",
        "\n",
        "word_list = [\"аналитика\", \"данные\", \"отчет\", \"бизнес\", \"план\", \"модель\"]\n",
        "print(filter_long_strings(word_list))"
      ],
      "metadata": {
        "id": "UnmsckPCo-0m",
        "colab": {
          "base_uri": "https://localhost:8080/"
        },
        "outputId": "8aa6060c-fd4a-45b7-ebf3-e99207b883bd"
      },
      "execution_count": 13,
      "outputs": [
        {
          "output_type": "stream",
          "name": "stdout",
          "text": [
            "['аналитика', 'данные', 'бизнес', 'модель']\n"
          ]
        }
      ]
    },
    {
      "cell_type": "markdown",
      "source": [
        "11. Напишите функцию, которая создает акроним (аббревиатуру) из фразы. Например, из \"Key Performance Indicator\" должно получиться \"KPI\"."
      ],
      "metadata": {
        "id": "i91FrhIko-53"
      }
    },
    {
      "cell_type": "code",
      "source": [
        "# Выполнила: Паньшина З.А.\n",
        "# Группа: АБП-231\n",
        "\n",
        "def create_acronym(phrase):\n",
        "    \"\"\"Создать акроним из фразы 'phrase'.\n",
        "\n",
        "    Параметры:\n",
        "        - phrase (str): исходная фраза.\n",
        "\n",
        "    Результат:\n",
        "        - str: акроним в верхнем регистре.\"\"\"\n",
        "    st = []\n",
        "    res = phrase.split()\n",
        "    for i in res:\n",
        "      st.append(i[0])\n",
        "    return ''.join(st)\n",
        "\n",
        "print(create_acronym(\"Key Performance Indicator\"))\n",
        "print(create_acronym(\"business process modeling notation\"))"
      ],
      "metadata": {
        "id": "Kh7ADS77o_Ux",
        "colab": {
          "base_uri": "https://localhost:8080/"
        },
        "outputId": "c4585a6c-efb7-495e-88c4-3cf9c5489b6e"
      },
      "execution_count": 14,
      "outputs": [
        {
          "output_type": "stream",
          "name": "stdout",
          "text": [
            "KPI\n",
            "bpmn\n"
          ]
        }
      ]
    },
    {
      "cell_type": "markdown",
      "source": [
        "12. Напишите функцию для форматирования телефонного номера. Она должна принимать строку из 11 цифр (например, 89211234567) и возвращать ее в формате +7 (921) 123-45-67."
      ],
      "metadata": {
        "id": "sqSNa7a0o_lc"
      }
    },
    {
      "cell_type": "code",
      "source": [
        "# Выполнила: Паньшина З.А.\n",
        "# Группа: АБП-231\n",
        "\n",
        "def format_phone_number(phone):\n",
        "    \"\"\"Отформатировать телефонный номер 'phone'.\n",
        "\n",
        "    Параметры:\n",
        "        - phone (str): строка из 11 цифр.\n",
        "\n",
        "    Результат:\n",
        "        - str: отформатированный номер.\"\"\"\n",
        "    res = f'+7 ({phone[1:4]}) {phone[4:7]}-{phone[7:9]}-{phone[9:]}'\n",
        "    return res\n",
        "\n",
        "print(format_phone_number(\"89211234567\"))"
      ],
      "metadata": {
        "id": "b1KLi1Iyo_rk",
        "colab": {
          "base_uri": "https://localhost:8080/"
        },
        "outputId": "3ae7f080-5853-4c85-fe56-9acdad33c5a3"
      },
      "execution_count": 18,
      "outputs": [
        {
          "output_type": "stream",
          "name": "stdout",
          "text": [
            "+7 (921) 123-45-67\n"
          ]
        }
      ]
    },
    {
      "cell_type": "markdown",
      "source": [
        "13. Напишите функцию, которая разбирает строку в формате CSV (CommaSeparated Values) и возвращает список ее полей."
      ],
      "metadata": {
        "id": "wruPUYMHpX7R"
      }
    },
    {
      "cell_type": "code",
      "source": [
        "# Выполнила: Паньшина З.А.\n",
        "# Группа: АБП-231\n",
        "\n",
        "def parse_csv_row(csv_row):\n",
        "    \"\"\"Разобрать строку 'csv_row' в формате CSV.\n",
        "\n",
        "    Параметры:\n",
        "        - csv_row (str): строка с данными, разделенными запятыми.\n",
        "\n",
        "    Результат:\n",
        "        - list: список полей из строки.\"\"\"\n",
        "    res = csv_row.split(',')\n",
        "    return res\n",
        "\n",
        "row = \"Иванов,Иван,35,Менеджер\"\n",
        "print(parse_csv_row(row))"
      ],
      "metadata": {
        "id": "yv7hKXdcpYUI",
        "colab": {
          "base_uri": "https://localhost:8080/"
        },
        "outputId": "e31b627d-4f1f-409a-b418-6907ebc5b1a6"
      },
      "execution_count": 19,
      "outputs": [
        {
          "output_type": "stream",
          "name": "stdout",
          "text": [
            "['Иванов', 'Иван', '35', 'Менеджер']\n"
          ]
        }
      ]
    },
    {
      "cell_type": "markdown",
      "source": [
        "14. Напишите функцию, которая находит самое длинное слово в списке слов"
      ],
      "metadata": {
        "id": "SG9h-1htpYb-"
      }
    },
    {
      "cell_type": "code",
      "source": [
        "# Выполнила: Паньшина З.А.\n",
        "# Группа: АБП-231\n",
        "\n",
        "def find_longest_word(words):\n",
        "    \"\"\"Найти самое длинное слово в списке 'words'.\n",
        "\n",
        "    Параметры:\n",
        "        - words (list): список слов.\n",
        "\n",
        "    Результат:\n",
        "        - str: самое длинное слово.\"\"\"\n",
        "    mx = 0\n",
        "    res = ''\n",
        "    for i in words:\n",
        "      if len(i) >= mx:\n",
        "        mx = len(i)\n",
        "        res = i\n",
        "    return res\n",
        "\n",
        "word_list = [\"аналитика\", \"данные\", \"отчет\", \"бизнес\", \"модель\", \"прогнозирование\"]\n",
        "print(find_longest_word(word_list))"
      ],
      "metadata": {
        "id": "frT5rpfppYjZ",
        "colab": {
          "base_uri": "https://localhost:8080/"
        },
        "outputId": "896b231c-ba43-417f-e7fb-035a0760834b"
      },
      "execution_count": 20,
      "outputs": [
        {
          "output_type": "stream",
          "name": "stdout",
          "text": [
            "прогнозирование\n"
          ]
        }
      ]
    },
    {
      "cell_type": "markdown",
      "source": [
        "15. В целях безопасности необходимо маскировать номера кредитных карт. Напишите функцию, которая принимает номер карты (строку из 16 цифр) и возвращает его в виде, где первые 12 цифр заменены на \"*\""
      ],
      "metadata": {
        "id": "dqKynXa_pYrx"
      }
    },
    {
      "cell_type": "code",
      "source": [
        "# Выполнила: Паньшина З.А.\n",
        "# Группа: АБП-231\n",
        "\n",
        "def mask_card_number(card_number):\n",
        "    \"\"\"Замаскировать номер карты 'card_number'.\n",
        "\n",
        "    Параметры:\n",
        "        - card_number (str): номер карты (16 цифр).\n",
        "\n",
        "    Результат:\n",
        "        - str: замаскированный номер.\"\"\"\n",
        "    res = f\"************{card_number[12:]}\"\n",
        "    return res\n",
        "\n",
        "print(mask_card_number(\"4567890123456789\"))"
      ],
      "metadata": {
        "id": "QQzmIfAhpYyi",
        "colab": {
          "base_uri": "https://localhost:8080/"
        },
        "outputId": "51be56ad-9d4a-4148-a69c-81d24e3947f3"
      },
      "execution_count": 22,
      "outputs": [
        {
          "output_type": "stream",
          "name": "stdout",
          "text": [
            "************6789\n"
          ]
        }
      ]
    },
    {
      "cell_type": "markdown",
      "source": [
        "16. Напишите функцию, которая сортирует список полных имен (\"Имя Фамилия\") по фамилии."
      ],
      "metadata": {
        "id": "HoOb9dZRpY4p"
      }
    },
    {
      "cell_type": "code",
      "source": [
        "# Выполнила: Паньшина З.А.\n",
        "# Группа: АБП-231\n",
        "\n",
        "def sort_by_last_name(names):\n",
        "    \"\"\"Отсортировать список 'names' по фамилии.\n",
        "\n",
        "    Параметры:\n",
        "        - names (list): список полных имен.\n",
        "\n",
        "    Результат:\n",
        "        - list: отсортированный список.\"\"\"\n",
        "    res = sorted(names, key = lambda x:x.split()[1])\n",
        "    return res\n",
        "\n",
        "name_list = [\"Иван Петров\", \"Анна Сидорова\", \"Петр Иванов\", \"Мария Алексеева\"]\n",
        "print(sort_by_last_name(name_list))"
      ],
      "metadata": {
        "id": "4UxteoTApY-q",
        "colab": {
          "base_uri": "https://localhost:8080/"
        },
        "outputId": "4c66f7c4-3a51-433c-dc8e-b7b7c850c360"
      },
      "execution_count": 23,
      "outputs": [
        {
          "output_type": "stream",
          "name": "stdout",
          "text": [
            "['Мария Алексеева', 'Петр Иванов', 'Иван Петров', 'Анна Сидорова']\n"
          ]
        }
      ]
    },
    {
      "cell_type": "markdown",
      "source": [
        "17. Напишите функцию, которая \"сплющивает\" вложенный список (список списков) в один плоский список"
      ],
      "metadata": {
        "id": "toP8IoI-pZFM"
      }
    },
    {
      "cell_type": "code",
      "source": [
        "# Выполнила: Паньшина З.А.\n",
        "# Группа: АБП-231\n",
        "\n",
        "def flatten_list(nested_list):\n",
        "    \"\"\"Преобразовать вложенный список 'nested_list' в плоский.\n",
        "\n",
        "    Параметры:\n",
        "        - nested_list (list): список, содержащий другие списки.\n",
        "\n",
        "    Результат:\n",
        "        - list: плоский список.\"\"\"\n",
        "    res = []\n",
        "    for i in nested_list:\n",
        "      res.extend(i)\n",
        "    return res\n",
        "\n",
        "matrix = [[1, 2, 3], [4, 5], [6, 7, 8, 9]]\n",
        "print(flatten_list(matrix))"
      ],
      "metadata": {
        "id": "VVjYKR5opZK4",
        "colab": {
          "base_uri": "https://localhost:8080/"
        },
        "outputId": "0cea46d8-185a-4bfd-d7e5-8625653e2ebd"
      },
      "execution_count": 24,
      "outputs": [
        {
          "output_type": "stream",
          "name": "stdout",
          "text": [
            "[1, 2, 3, 4, 5, 6, 7, 8, 9]\n"
          ]
        }
      ]
    },
    {
      "cell_type": "markdown",
      "source": [
        "18. Напишите функцию, которая удаляет все знаки препинания из текста"
      ],
      "metadata": {
        "id": "NolPsbcMpZRC"
      }
    },
    {
      "cell_type": "code",
      "source": [
        "# Выполнила: Паньшина З.А.\n",
        "# Группа: АБП-231\n",
        "import re\n",
        "\n",
        "def remove_punctuation(text):\n",
        "    \"\"\"Удалить все знаки препинания из 'text'.\n",
        "\n",
        "    Параметры:\n",
        "        - text (str): исходный текст.\n",
        "\n",
        "    Результат:\n",
        "        - str: текст без знаков препинания.\"\"\"\n",
        "    clean =  re.sub(r'[^\\w\\s]','',text)\n",
        "    return clean\n",
        "\n",
        "input_text = \"Привет, мир! Как твои дела, Python?\"\n",
        "print(remove_punctuation(input_text))"
      ],
      "metadata": {
        "id": "VoxV5gN4pZWw",
        "colab": {
          "base_uri": "https://localhost:8080/"
        },
        "outputId": "2d367052-402d-4ef2-e046-23c6373f12c9"
      },
      "execution_count": 25,
      "outputs": [
        {
          "output_type": "stream",
          "name": "stdout",
          "text": [
            "Привет мир Как твои дела Python\n"
          ]
        }
      ]
    },
    {
      "cell_type": "markdown",
      "source": [
        "19. Напишите функцию, которая объединяет два списка и возвращает новый отсортированный список без дубликатов."
      ],
      "metadata": {
        "id": "iPxis6hjpZdF"
      }
    },
    {
      "cell_type": "code",
      "source": [
        "# Выполнила: Паньшина З.А.\n",
        "# Группа: АБП-231\n",
        "\n",
        "def merge_and_sort_unique(list1, list2):\n",
        "    \"\"\"Объединить два списка 'list1' и 'list2', отсортировать и убрать дубликаты.\n",
        "\n",
        "    Параметры:\n",
        "        - list1 (list): первый список.\n",
        "        - list2 (list): второй список.\n",
        "\n",
        "    Результат:\n",
        "        - list: объединенный, отсортированный, уникальный список.\"\"\"\n",
        "    res = []\n",
        "    res.extend(list1)\n",
        "    res.extend(list2)\n",
        "    o = list(set(res))\n",
        "    return o\n",
        "\n",
        "list_a = [3, 1, 5, 2, 5]\n",
        "list_b = [8, 2, 4, 1, 6]\n",
        "print(merge_and_sort_unique(list_a, list_b))"
      ],
      "metadata": {
        "id": "SHyob1QvpZi9",
        "colab": {
          "base_uri": "https://localhost:8080/"
        },
        "outputId": "6c8799dc-dbba-42a0-c330-f0ab4abdd8e1"
      },
      "execution_count": 26,
      "outputs": [
        {
          "output_type": "stream",
          "name": "stdout",
          "text": [
            "[1, 2, 3, 4, 5, 6, 8]\n"
          ]
        }
      ]
    },
    {
      "cell_type": "markdown",
      "source": [
        "20. Напишите функцию, которая извлекает все хэштеги (слова, начинающиеся с #) из строки"
      ],
      "metadata": {
        "id": "1ZLQl-YzpZo-"
      }
    },
    {
      "cell_type": "code",
      "source": [
        "# Выполнила: Паньшина З.А.\n",
        "# Группа: АБП-231\n",
        "\n",
        "def extract_hashtags(text):\n",
        "    \"\"\"Извлечь хэштеги из текста 'text'.\n",
        "\n",
        "    Параметры:\n",
        "        - text (str): текст с хэштегами.\n",
        "\n",
        "    Результат:\n",
        "        - list: список хэштегов без символа '#'.\"\"\"\n",
        "    res = []\n",
        "    words = text.split()\n",
        "    for word in words:\n",
        "        if word.startswith('#'):\n",
        "            h = word[1:]\n",
        "            res.append(h)\n",
        "    return res\n",
        "\n",
        "post = \"Сегодня отличный день! #python #программирование #бизнесинформатика\"\n",
        "print(extract_hashtags(post))"
      ],
      "metadata": {
        "id": "mhhx1obupZu-",
        "colab": {
          "base_uri": "https://localhost:8080/"
        },
        "outputId": "f7620001-de80-42af-f115-332040b0a7a9"
      },
      "execution_count": 28,
      "outputs": [
        {
          "output_type": "stream",
          "name": "stdout",
          "text": [
            "['python', 'программирование', 'бизнесинформатика']\n"
          ]
        }
      ]
    }
  ]
}